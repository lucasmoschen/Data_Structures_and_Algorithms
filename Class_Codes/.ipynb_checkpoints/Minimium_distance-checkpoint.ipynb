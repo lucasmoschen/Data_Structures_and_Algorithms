{
 "cells": [
  {
   "cell_type": "code",
   "execution_count": 38,
   "metadata": {},
   "outputs": [],
   "source": [
    "def med(string1,string2):\n",
    "        m = len(string1)\n",
    "        n = len(string2)\n",
    "        D = [[0]*n for i in range(m)]\n",
    "        P = [[\"None\"]*n for i in range(m)]\n",
    "        for i in range(m): \n",
    "            D[i][0] = i\n",
    "        for j in range(n):\n",
    "            D[0][j] = j\n",
    "        for i in range(1,m):\n",
    "            for j in range(1,n):\n",
    "                X = lambda x,y: int(not x[i] == y[j])*2\n",
    "                values = [D[i-1][j]+1, D[i][j-1]+1, D[i-1][j-1] + X(string1,string2)]\n",
    "                ind,D[i][j] = indices(values)\n",
    "                P[i][j] = tuple(ind)\n",
    "        return D,P"
   ]
  },
  {
   "cell_type": "code",
   "execution_count": 39,
   "metadata": {},
   "outputs": [],
   "source": [
    "def indices(lista):\n",
    "    indices = [0]\n",
    "    minimum = lista[0]\n",
    "    for i in range(1,len(lista)):\n",
    "        if lista[i] < minimum:\n",
    "            indices = [i]\n",
    "            minimum = lista[i]\n",
    "        elif lista[i] == minimum:\n",
    "            indices.append(i)\n",
    "    return indices, minimum"
   ]
  },
  {
   "cell_type": "code",
   "execution_count": 40,
   "metadata": {},
   "outputs": [
    {
     "data": {
      "text/plain": [
       "([[0, 1, 2, 3, 4, 5, 6, 7, 8],\n",
       "  [1, 2, 3, 4, 5, 6, 7, 8, 7],\n",
       "  [2, 3, 4, 5, 6, 5, 6, 7, 8],\n",
       "  [3, 4, 3, 4, 5, 6, 7, 8, 9],\n",
       "  [4, 5, 4, 5, 6, 7, 8, 9, 8],\n",
       "  [5, 6, 5, 6, 7, 6, 7, 8, 9],\n",
       "  [6, 7, 6, 7, 8, 7, 6, 7, 8],\n",
       "  [7, 8, 7, 8, 9, 8, 7, 6, 7],\n",
       "  [8, 9, 8, 9, 10, 9, 8, 7, 6]],\n",
       " [['None', 'None', 'None', 'None', 'None', 'None', 'None', 'None', 'None'],\n",
       "  ['None',\n",
       "   (0, 1, 2),\n",
       "   (0, 1, 2),\n",
       "   (0, 1, 2),\n",
       "   (0, 1, 2),\n",
       "   (0, 1, 2),\n",
       "   (0, 1, 2),\n",
       "   (0, 1, 2),\n",
       "   (2,)],\n",
       "  ['None',\n",
       "   (0, 1, 2),\n",
       "   (0, 1, 2),\n",
       "   (0, 1, 2),\n",
       "   (0, 1, 2),\n",
       "   (2,),\n",
       "   (1,),\n",
       "   (1,),\n",
       "   (0, 1)],\n",
       "  ['None',\n",
       "   (0, 1, 2),\n",
       "   (2,),\n",
       "   (1,),\n",
       "   (1,),\n",
       "   (0, 1),\n",
       "   (0, 1, 2),\n",
       "   (0, 1, 2),\n",
       "   (0, 1, 2)],\n",
       "  ['None',\n",
       "   (0, 1, 2),\n",
       "   (0,),\n",
       "   (0, 1, 2),\n",
       "   (0, 1, 2),\n",
       "   (0, 1, 2),\n",
       "   (0, 1, 2),\n",
       "   (0, 1, 2),\n",
       "   (2,)],\n",
       "  ['None', (0, 1, 2), (0,), (0, 1, 2), (0, 1, 2), (2,), (1,), (1,), (0, 1)],\n",
       "  ['None', (0, 1, 2), (0,), (0, 1, 2), (0, 1, 2), (0,), (2,), (1,), (1,)],\n",
       "  ['None', (0, 1, 2), (0,), (0, 1, 2), (0, 1, 2), (0,), (0,), (2,), (1,)],\n",
       "  ['None', (0, 1, 2), (0,), (0, 1, 2), (0, 1, 2), (0,), (0,), (0,), (2,)]])"
      ]
     },
     "execution_count": 40,
     "metadata": {},
     "output_type": "execute_result"
    }
   ],
   "source": [
    "med(\"intention\",\"execution\")"
   ]
  },
  {
   "cell_type": "code",
   "execution_count": null,
   "metadata": {},
   "outputs": [],
   "source": []
  },
  {
   "cell_type": "code",
   "execution_count": null,
   "metadata": {},
   "outputs": [],
   "source": []
  }
 ],
 "metadata": {
  "kernelspec": {
   "display_name": "Python 3",
   "language": "python",
   "name": "python3"
  },
  "language_info": {
   "codemirror_mode": {
    "name": "ipython",
    "version": 3
   },
   "file_extension": ".py",
   "mimetype": "text/x-python",
   "name": "python",
   "nbconvert_exporter": "python",
   "pygments_lexer": "ipython3",
   "version": "3.7.1"
  }
 },
 "nbformat": 4,
 "nbformat_minor": 2
}
