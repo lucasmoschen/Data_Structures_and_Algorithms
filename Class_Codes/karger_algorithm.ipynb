{
 "cells": [
  {
   "cell_type": "code",
   "execution_count": 3,
   "metadata": {},
   "outputs": [],
   "source": [
    "import numpy as np"
   ]
  },
  {
   "cell_type": "code",
   "execution_count": 4,
   "metadata": {},
   "outputs": [],
   "source": [
    "G = {\"A\":[\"B\",\"F\",'G'],\"B\":['A','E','F','G']}\n",
    "G[\"C\"] = [\"D\",\"E\",\"H\",\"I\"]\n",
    "G[\"D\"] = [\"C\",\"H\",\"I\"]\n",
    "G[\"E\"] = [\"B\",\"C\",\"G\",\"H\",\"I\"]\n",
    "G[\"F\"] = [\"A\",\"B\",\"G\"]\n",
    "G[\"G\"] = [\"A\",\"B\",\"E\",\"F\"]\n",
    "G[\"H\"] = ['C',\"D\",'E',\"I\"]\n",
    "G[\"I\"] = ['C','D','E','H']"
   ]
  },
  {
   "cell_type": "code",
   "execution_count": null,
   "metadata": {},
   "outputs": [],
   "source": [
    "def merge_supervertices(u,v,G_set):\n",
    "     x = supervertex(u,v)\n",
    "        for w in G_set - [u,v]:\n",
    "            E2 = \n",
    "    "
   ]
  },
  {
   "cell_type": "code",
   "execution_count": null,
   "metadata": {},
   "outputs": [],
   "source": [
    "def karger(G):\n",
    "    H = [{u} for u in G]\n",
    "    E = {(u,v) for u in G }\n",
    "    while len(H) > 2:\n",
    "        "
   ]
  },
  {
   "cell_type": "code",
   "execution_count": null,
   "metadata": {},
   "outputs": [],
   "source": []
  }
 ],
 "metadata": {
  "kernelspec": {
   "display_name": "Python 3",
   "language": "python",
   "name": "python3"
  },
  "language_info": {
   "codemirror_mode": {
    "name": "ipython",
    "version": 3
   },
   "file_extension": ".py",
   "mimetype": "text/x-python",
   "name": "python",
   "nbconvert_exporter": "python",
   "pygments_lexer": "ipython3",
   "version": "3.7.1"
  }
 },
 "nbformat": 4,
 "nbformat_minor": 2
}
