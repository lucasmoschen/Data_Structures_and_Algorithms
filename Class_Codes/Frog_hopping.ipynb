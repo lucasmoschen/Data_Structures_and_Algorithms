{
 "cells": [
  {
   "cell_type": "code",
   "execution_count": 31,
   "metadata": {},
   "outputs": [],
   "source": [
    "def frl(cur_lily, lilys, r):\n",
    "    for i in range(r,1,-1):\n",
    "        a = cur_lily[\"position\"] + i\n",
    "        if a in lilys:\n",
    "            return {\"position\": a}\n",
    "\n",
    "def frog_hopping(lilys, r, n):\n",
    "    H = [0]\n",
    "    cur_lily = {\"position\": 0}\n",
    "    while cur_lily[\"position\"] < n:\n",
    "        next_lily = frl(cur_lily, lilys, r)\n",
    "        H.append(next_lily[\"position\"])\n",
    "        cur_lily = next_lily\n",
    "    return H"
   ]
  },
  {
   "cell_type": "code",
   "execution_count": 32,
   "metadata": {},
   "outputs": [],
   "source": [
    "lilys = [0,1,3,4,6,10]"
   ]
  },
  {
   "cell_type": "code",
   "execution_count": 33,
   "metadata": {},
   "outputs": [
    {
     "data": {
      "text/plain": [
       "[0, 4, 6, 10]"
      ]
     },
     "execution_count": 33,
     "metadata": {},
     "output_type": "execute_result"
    }
   ],
   "source": [
    "frog_hopping(lilys,4,10)"
   ]
  },
  {
   "cell_type": "code",
   "execution_count": null,
   "metadata": {},
   "outputs": [],
   "source": []
  }
 ],
 "metadata": {
  "kernelspec": {
   "display_name": "Python 3",
   "language": "python",
   "name": "python3"
  },
  "language_info": {
   "codemirror_mode": {
    "name": "ipython",
    "version": 3
   },
   "file_extension": ".py",
   "mimetype": "text/x-python",
   "name": "python",
   "nbconvert_exporter": "python",
   "pygments_lexer": "ipython3",
   "version": "3.7.1"
  }
 },
 "nbformat": 4,
 "nbformat_minor": 2
}
