{
 "cells": [
  {
   "cell_type": "code",
   "execution_count": 12,
   "metadata": {},
   "outputs": [],
   "source": [
    "import numpy as np\n",
    "import time"
   ]
  },
  {
   "cell_type": "code",
   "execution_count": 13,
   "metadata": {},
   "outputs": [],
   "source": [
    "def counting(A, k):\n",
    "    counts = [0]*k\n",
    "    for a_i in A:\n",
    "        counts[a_i] += 1\n",
    "    result = []\n",
    "    for a_i in range(0,len(counts)-1):\n",
    "        result.extend([a_i]*counts[a_i])\n",
    "    return result"
   ]
  },
  {
   "cell_type": "code",
   "execution_count": 10,
   "metadata": {},
   "outputs": [],
   "source": [
    "A = np.random.randint(100000,size = (1,1000000))[0]"
   ]
  },
  {
   "cell_type": "code",
   "execution_count": 11,
   "metadata": {},
   "outputs": [
    {
     "name": "stdout",
     "output_type": "stream",
     "text": [
      "0.3193471431732178\n",
      "0.07180666923522949\n"
     ]
    }
   ],
   "source": [
    "t0 = time.time()\n",
    "counting(A,100000)\n",
    "print(time.time() - t0)\n",
    "t0 = time.time()\n",
    "A.sort()\n",
    "print(time.time() - t0)"
   ]
  },
  {
   "cell_type": "code",
   "execution_count": 177,
   "metadata": {},
   "outputs": [],
   "source": [
    "def bucket_sort(A, k, num_buckets):\n",
    "    n = np.ceil(k/num_buckets)\n",
    "    buckets = [[] for i in range(num_buckets)]\n",
    "    get_bucket = lambda key,n:int(np.floor(key/n))\n",
    "    for key,value in A:\n",
    "        buckets[get_bucket(key,n)].append((key,value))\n",
    "    if num_buckets < k:\n",
    "        for bucket in buckets:\n",
    "            bucket.sort(key = lambda x: x[0])\n",
    "    result = []\n",
    "    for i in buckets:\n",
    "        result.extend(i)\n",
    "    return result\n",
    "A = [4,3,2,1,7,5,6,1,5,6,26,47,5,2,31,32,4,45,4,1,45,7] \n",
    "B = list(np.random.randint(len(A),size = (1,len(A)))[0])\n",
    "K = [(B[i],A[i]) for i in range(len(A))]"
   ]
  },
  {
   "cell_type": "code",
   "execution_count": 184,
   "metadata": {},
   "outputs": [],
   "source": [
    "def radix_sort(A,d,k):\n",
    "    A = [str(A[i]) for i in range(len(A))]\n",
    "    for j in range(d):\n",
    "        A_j = []\n",
    "        for i in range(len(A)):\n",
    "            A_j.append((A[i][j],A[i]))\n",
    "        result = bucket_sort(A_j,k,k)\n",
    "        A = result\n",
    "    return A"
   ]
  },
  {
   "cell_type": "code",
   "execution_count": 185,
   "metadata": {},
   "outputs": [],
   "source": [
    "A = [10,304,7,9,15,3,34,43]\n",
    "d, k = 3, 10\n",
    "radix_sort(A,d,k)"
   ]
  }
 ],
 "metadata": {
  "kernelspec": {
   "display_name": "Python 3",
   "language": "python",
   "name": "python3"
  },
  "language_info": {
   "codemirror_mode": {
    "name": "ipython",
    "version": 3
   },
   "file_extension": ".py",
   "mimetype": "text/x-python",
   "name": "python",
   "nbconvert_exporter": "python",
   "pygments_lexer": "ipython3",
   "version": "3.7.1"
  }
 },
 "nbformat": 4,
 "nbformat_minor": 2
}
