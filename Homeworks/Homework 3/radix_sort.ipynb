{
 "cells": [
  {
   "cell_type": "markdown",
   "metadata": {},
   "source": [
    "# Radix Sort Code"
   ]
  },
  {
   "cell_type": "code",
   "execution_count": 12,
   "metadata": {},
   "outputs": [],
   "source": [
    "import numpy as np\n",
    "def isSorted(A):\n",
    "    for i in range(len(A)-1):\n",
    "        if A[i] > A[i+1]:\n",
    "            return False\n",
    "    return True"
   ]
  },
  {
   "cell_type": "markdown",
   "metadata": {},
   "source": [
    "### Bucket Sort"
   ]
  },
  {
   "cell_type": "code",
   "execution_count": 13,
   "metadata": {},
   "outputs": [],
   "source": [
    "def bucket_sort(A, k, num_buckets):\n",
    "    buckets = [[] for i in range(num_buckets)]         #cria uma lista de buckets\n",
    "    n = np.ceil(k/num_buckets)                         #divide o máximo de chaves entre os buckets\n",
    "    get_bucket = lambda key,n: int(np.floor(key/n))    #função que escolhe o bucket, dada a chave\n",
    "    for key,value in A:\n",
    "        buckets[get_bucket(key,n)].append((key,value))\n",
    "    if num_buckets < k:\n",
    "        for bucket in buckets:\n",
    "            bucket.sort(key = lambda x: x[0])\n",
    "    result = []\n",
    "    for i in buckets:\n",
    "        result.extend(i)\n",
    "    return result"
   ]
  },
  {
   "cell_type": "markdown",
   "metadata": {},
   "source": [
    "### Radix Sort"
   ]
  },
  {
   "cell_type": "code",
   "execution_count": 14,
   "metadata": {},
   "outputs": [],
   "source": [
    "def radix_sort(A,d,k):\n",
    "    jth = lambda x,j: int(np.floor(x/10**j) - np.floor(np.floor(x/10**j)/10)*10) #take the jth value of the number(right->left) \n",
    "    for j in range(d):\n",
    "        A_j = [(jth(A[i],j), A[i]) for i in range(len(A))]\n",
    "        result = bucket_sort(A_j,k,k)\n",
    "        A = [result[i][1] for i in range(len(result))]\n",
    "    A = [A[i] for i in range(len(A))]\n",
    "    return A"
   ]
  },
  {
   "cell_type": "code",
   "execution_count": 15,
   "metadata": {},
   "outputs": [
    {
     "name": "stdout",
     "output_type": "stream",
     "text": [
      "[30, 32, 45, 46, 49, 78, 79, 91, 100, 107, 201, 250, 321, 321, 422, 456]\n"
     ]
    }
   ],
   "source": [
    "A = [201, 321, 32,45, 79,30,91, 100,321,422,456,78,107,46,250,49]\n",
    "Asorted = radix_sort(A,3,10)\n",
    "print(Asorted)"
   ]
  },
  {
   "cell_type": "code",
   "execution_count": 16,
   "metadata": {},
   "outputs": [
    {
     "name": "stdout",
     "output_type": "stream",
     "text": [
      "True\n"
     ]
    }
   ],
   "source": [
    "A = np.random.randint(1,10000,10000)\n",
    "A_sorted = radix_sort(A,4,10)\n",
    "print(isSorted(A_sorted))"
   ]
  }
 ],
 "metadata": {
  "kernelspec": {
   "display_name": "Python 3",
   "language": "python",
   "name": "python3"
  },
  "language_info": {
   "codemirror_mode": {
    "name": "ipython",
    "version": 3
   },
   "file_extension": ".py",
   "mimetype": "text/x-python",
   "name": "python",
   "nbconvert_exporter": "python",
   "pygments_lexer": "ipython3",
   "version": "3.7.1"
  }
 },
 "nbformat": 4,
 "nbformat_minor": 2
}
